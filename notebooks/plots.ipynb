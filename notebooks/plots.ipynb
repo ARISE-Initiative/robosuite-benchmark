{
 "cells": [
  {
   "cell_type": "code",
   "execution_count": 2,
   "metadata": {},
   "outputs": [],
   "source": [
    "import os\n",
    "import matplotlib\n",
    "import matplotlib.pyplot as plt\n",
    "import numpy as np\n",
    "import pandas as pd\n",
    "import sys"
   ]
  },
  {
   "cell_type": "code",
   "execution_count": 3,
   "metadata": {},
   "outputs": [],
   "source": [
    "TASKS = [\"Lift\", \"Stack\", \"Wipe\", \"TwoArmHandoff\", \"Door\", \"PickPlaceCan\", \"TwoArmPegInHole\"]"
   ]
  },
  {
   "cell_type": "code",
   "execution_count": 7,
   "metadata": {},
   "outputs": [
    {
     "name": "stdout",
     "output_type": "stream",
     "text": [
      "['Door_Panda_OSC_POSE_SEED59_2020_09_13_00_26_44_0000--s-0']\n",
      "['Door_Panda_OSC_POSE_SEED17_2020_09_13_00_26_44_0000--s-0']\n",
      "['Door_Panda_OSC_POSE_SEED83_2020_09_13_00_26_44_0000--s-0']\n"
     ]
    }
   ],
   "source": [
    "exp_prefix = \"Door-Panda-OSC\"\n",
    "\n",
    "exp_path = '../runs'\n",
    "\n",
    "all_runs = os.listdir(exp_path)\n",
    "\n",
    "runs = [x for x in all_runs if x.startswith(exp_prefix)]\n",
    "\n",
    "x = np.array(range(2000))\n",
    "\n",
    "scores_mean = []\n",
    "scores_std = []\n",
    "\n",
    "for r in runs:\n",
    "\n",
    "    folder = os.listdir(os.path.join(exp_path, r))\n",
    "    assert len(folder) == 1\n",
    "\n",
    "    print(folder)\n",
    "    \n",
    "    df = pd.read_csv(os.path.join(exp_path, r, folder[0], 'progress.csv'))\n",
    "    y_mean = df['evaluation/Returns Mean'].to_numpy()\n",
    "    y_std = df['evaluation/Returns Std'].to_numpy()\n",
    "\n",
    "    scores_mean.append(y_mean)\n",
    "    scores_std.append(y_std)"
   ]
  },
  {
   "cell_type": "code",
   "execution_count": 13,
   "metadata": {},
   "outputs": [],
   "source": [
    "# smoothing values\n",
    "def smooth(values, weight):\n",
    "    smoothed = np.array(values)\n",
    "    for i in range(1, smoothed.shape[0]):\n",
    "        smoothed[i] = smoothed[i-1] * weight + (1 - weight) * smoothed[i]\n",
    "    return smoothed\n",
    "\n",
    "weight = 0.99 # Yuke: modify smoothing weight here\n",
    "for idx, (means, stds) in enumerate(zip(scores_mean, scores_std)):\n",
    "    scores_mean[idx] = smooth(means, weight)\n",
    "    scores_std[idx] = smooth(stds, weight)"
   ]
  },
  {
   "cell_type": "code",
   "execution_count": 14,
   "metadata": {},
   "outputs": [
    {
     "data": {
      "text/plain": [
       "Index(['replay_buffer/size', 'trainer/QF1 Loss', 'trainer/QF2 Loss',\n",
       "       'trainer/Policy Loss', 'trainer/Q1 Predictions Mean',\n",
       "       'trainer/Q1 Predictions Std', 'trainer/Q1 Predictions Max',\n",
       "       'trainer/Q1 Predictions Min', 'trainer/Q2 Predictions Mean',\n",
       "       'trainer/Q2 Predictions Std', 'trainer/Q2 Predictions Max',\n",
       "       'trainer/Q2 Predictions Min', 'trainer/Q Targets Mean',\n",
       "       'trainer/Q Targets Std', 'trainer/Q Targets Max',\n",
       "       'trainer/Q Targets Min', 'trainer/Log Pis Mean', 'trainer/Log Pis Std',\n",
       "       'trainer/Log Pis Max', 'trainer/Log Pis Min', 'trainer/Policy mu Mean',\n",
       "       'trainer/Policy mu Std', 'trainer/Policy mu Max',\n",
       "       'trainer/Policy mu Min', 'trainer/Policy log std Mean',\n",
       "       'trainer/Policy log std Std', 'trainer/Policy log std Max',\n",
       "       'trainer/Policy log std Min', 'trainer/Alpha', 'trainer/Alpha Loss',\n",
       "       'exploration/num steps total', 'exploration/num paths total',\n",
       "       'exploration/path length Mean', 'exploration/path length Std',\n",
       "       'exploration/path length Max', 'exploration/path length Min',\n",
       "       'exploration/Rewards Mean', 'exploration/Rewards Std',\n",
       "       'exploration/Rewards Max', 'exploration/Rewards Min',\n",
       "       'exploration/Returns Mean', 'exploration/Returns Std',\n",
       "       'exploration/Returns Max', 'exploration/Returns Min',\n",
       "       'exploration/Actions Mean', 'exploration/Actions Std',\n",
       "       'exploration/Actions Max', 'exploration/Actions Min',\n",
       "       'exploration/Num Paths', 'exploration/Average Returns',\n",
       "       'evaluation/num steps total', 'evaluation/num paths total',\n",
       "       'evaluation/path length Mean', 'evaluation/path length Std',\n",
       "       'evaluation/path length Max', 'evaluation/path length Min',\n",
       "       'evaluation/Rewards Mean', 'evaluation/Rewards Std',\n",
       "       'evaluation/Rewards Max', 'evaluation/Rewards Min',\n",
       "       'evaluation/Returns Mean', 'evaluation/Returns Std',\n",
       "       'evaluation/Returns Max', 'evaluation/Returns Min',\n",
       "       'evaluation/ExplReturns Mean', 'evaluation/ExplReturns Std',\n",
       "       'evaluation/ExplReturns Max', 'evaluation/ExplReturns Min',\n",
       "       'evaluation/Actions Mean', 'evaluation/Actions Std',\n",
       "       'evaluation/Actions Max', 'evaluation/Actions Min',\n",
       "       'evaluation/Num Paths', 'evaluation/Average Returns',\n",
       "       'time/data storing (s)', 'time/evaluation sampling (s)',\n",
       "       'time/exploration sampling (s)', 'time/logging (s)', 'time/saving (s)',\n",
       "       'time/training (s)', 'time/epoch (s)', 'time/total (s)', 'Epoch'],\n",
       "      dtype='object')"
      ]
     },
     "execution_count": 14,
     "metadata": {},
     "output_type": "execute_result"
    }
   ],
   "source": [
    "df.columns"
   ]
  },
  {
   "cell_type": "code",
   "execution_count": 15,
   "metadata": {},
   "outputs": [
    {
     "data": {
      "image/png": "[encoded data removed]",
      "text/plain": [
       "<Figure size 432x288 with 1 Axes>"
      ]
     },
     "metadata": {
      "needs_background": "light"
     },
     "output_type": "display_data"
    }
   ],
   "source": [
    "N = 50\n",
    "y_range = (0, 500)\n",
    "\n",
    "scores_mean = np.array(scores_mean)\n",
    "scores_std = np.array(scores_std)\n",
    "\n",
    "score_mean = scores_mean.mean(0)\n",
    "score_std  = scores_std.mean(0)\n",
    "\n",
    "score_std = np.convolve(score_std, np.ones((N,))/N, mode='same')\n",
    "score_mean = np.convolve(score_mean, np.ones((N,))/N, mode='same')\n",
    "\n",
    "plt.xlabel('Training epochs')\n",
    "plt.ylabel('Episode return')\n",
    "\n",
    "plt.xlim(0, 2000)\n",
    "plt.ylim(0, 500)\n",
    "\n",
    "plt.plot(x, score_mean)\n",
    "\n",
    "confidence_min = score_mean - score_std # 90% confidence band\n",
    "confidence_max = score_mean + score_std\n",
    "\n",
    "plt.fill_between(x, confidence_min, confidence_max, alpha=0.3)\n",
    "plt.savefig('%s.pdf' % exp_prefix)\n",
    "plt.show()"
   ]
  },
  {
   "cell_type": "code",
   "execution_count": null,
   "metadata": {
    "collapsed": true
   },
   "outputs": [],
   "source": []
  }
 ],
 "metadata": {
  "kernelspec": {
   "display_name": "Python 3",
   "language": "python",
   "name": "python3"
  },
  "language_info": {
   "codemirror_mode": {
    "name": "ipython",
    "version": 3
   },
   "file_extension": ".py",
   "mimetype": "text/x-python",
   "name": "python",
   "nbconvert_exporter": "python",
   "pygments_lexer": "ipython3",
   "version": "3.7.4"
  }
 },
 "nbformat": 4,
 "nbformat_minor": 2
}
