{
 "cells": [
  {
   "cell_type": "markdown",
   "metadata": {},
   "source": [
    "This script provides the arguments that we used to instantiate our standardized benchmarking environments. Our standard environments are created with the **Franka Emika Panda** arm using the **Operational Space Controllers**. For reproducible research and fair comparison, please use the same environment setups when comparing to our benchmarking results.\n",
    "\n",
    "We provide the following nine standardized environments in our current v1.0 release:\n",
    "\n",
    "- **Block Lifting**\n",
    "- **Block Stacking**\n",
    "- **Pick-and-Place Can**: pick-and-place task with only the Can object\n",
    "- **Nut Assembly Round**: nut assembly task with only the round nut\n",
    "- **Table Wiping**\n",
    "- **Door Opening**\n",
    "- **Two Arm Lifting**: two Panda robots in opposed positions\n",
    "- **Two Arm Handover**: two Panda robots in parallel positions\n",
    "- **Two Arm Peg-in-Hole**"
   ]
  },
  {
   "cell_type": "code",
   "execution_count": 6,
   "metadata": {
    "collapsed": true
   },
   "outputs": [],
   "source": [
    "import robosuite as suite"
   ]
  },
  {
   "cell_type": "code",
   "execution_count": 7,
   "metadata": {
    "collapsed": true
   },
   "outputs": [],
   "source": [
    "# have one make function per cell to illustrate how to instantiate the environments\n",
    "# env = suite.make(.)"
   ]
  },
  {
   "cell_type": "code",
   "execution_count": null,
   "metadata": {
    "collapsed": true
   },
   "outputs": [],
   "source": []
  }
 ],
 "metadata": {
  "kernelspec": {
   "display_name": "robosuite",
   "language": "python",
   "name": "robosuite"
  },
  "language_info": {
   "codemirror_mode": {
    "name": "ipython",
    "version": 3
   },
   "file_extension": ".py",
   "mimetype": "text/x-python",
   "name": "python",
   "nbconvert_exporter": "python",
   "pygments_lexer": "ipython3",
   "version": "3.7.1"
  }
 },
 "nbformat": 4,
 "nbformat_minor": 2
}
