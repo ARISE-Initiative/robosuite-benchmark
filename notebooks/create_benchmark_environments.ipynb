{
 "cells": [
  {
   "cell_type": "markdown",
   "metadata": {},
   "source": [
    "This script provides the arguments that we used to instantiate our standardized benchmarking environments. Our standard environments are created with the **Franka Emika Panda** arm using the **Operational Space Controllers**. For reproducible research and fair comparison, please use the same environment setups when comparing to our benchmarking results.\n",
    "\n",
    "We provide the following nine standardized environments in our current v1.0 release:\n",
    "\n",
    "- **Block Lifting**\n",
    "- **Block Stacking**\n",
    "- **Pick-and-Place Can**: pick-and-place task with only the Can object\n",
    "- **Nut Assembly Round**: nut assembly task with only the round nut\n",
    "- **Table Wiping**\n",
    "- **Door Opening**\n",
    "- **Two Arm Lifting**: two Panda robots in opposed positions\n",
    "- **Two Arm Handover**: two Panda robots in opposed positions\n",
    "- **Two Arm Peg-in-Hole**: two Panda robots in opposed positions"
   ]
  },
  {
   "cell_type": "code",
   "execution_count": 1,
   "metadata": {
    "collapsed": false
   },
   "outputs": [],
   "source": [
    "import robosuite as suite\n",
    "from robosuite import load_controller_config\n",
    "\n",
    "# load OSC controller to use for all environments\n",
    "controller = load_controller_config(default_controller=\"OSC_POSE\")\n",
    "\n",
    "# these arguments are the same for all envs\n",
    "config = {\n",
    "    \"controller_configs\": controller,\n",
    "    \"horizon\": 500,\n",
    "    \"control_freq\": 20,\n",
    "    \"reward_shaping\": True,\n",
    "    \"reward_scale\": 1.0,\n",
    "    \"use_camera_obs\": False,\n",
    "    \"ignore_done\": True,\n",
    "    \"hard_reset\": False,\n",
    "}\n",
    "\n",
    "# this should be used during training to speed up training\n",
    "# A renderer should be used if you're visualizing rollouts!\n",
    "config[\"has_offscreen_renderer\"] = False"
   ]
  },
  {
   "cell_type": "code",
   "execution_count": 2,
   "metadata": {
    "collapsed": false
   },
   "outputs": [],
   "source": [
    "# Block Lifting\n",
    "block_lifting_env = suite.make(\n",
    "    env_name=\"Lift\",\n",
    "    robots=\"Panda\",\n",
    "    **config,\n",
    ")\n",
    "\n",
    "# Block Stacking\n",
    "block_stacking_env = suite.make(\n",
    "    env_name=\"Stack\",\n",
    "    robots=\"Panda\",\n",
    "    **config,\n",
    ")\n",
    "\n",
    "# Pick-and-Place Can\n",
    "pick_and_place_can_env = suite.make(\n",
    "    env_name=\"PickPlaceCan\",\n",
    "    robots=\"Panda\",\n",
    "    **config,\n",
    ")\n",
    "\n",
    "# Nut Assembly Round\n",
    "nut_assembly_round_env = suite.make(\n",
    "    env_name=\"NutAssemblyRound\",\n",
    "    robots=\"Panda\",\n",
    "    **config,\n",
    ")\n",
    "\n",
    "# Table Wiping\n",
    "nut_assembly_round_env = suite.make(\n",
    "    env_name=\"NutAssemblyRound\",\n",
    "    robots=\"Panda\",\n",
    "    **config,\n",
    ")\n",
    "\n",
    "# Door Opening\n",
    "door_opening_env = suite.make(\n",
    "    env_name=\"NutAssemblyRound\",\n",
    "    robots=\"Panda\",\n",
    "    **config,\n",
    ")\n",
    "\n",
    "# Two Arm Lifting\n",
    "two_arm_lifting_env = suite.make(\n",
    "    env_name=\"TwoArmLift\",\n",
    "    robots=[\"Panda\", \"Panda\"],\n",
    "    env_configuration=\"single-arm-opposed\",\n",
    "    **config,\n",
    ")\n",
    "\n",
    "# Two Arm Handover\n",
    "two_arm_handover_env = suite.make(\n",
    "    env_name=\"TwoArmHandover\",\n",
    "    robots=[\"Panda\", \"Panda\"],\n",
    "    env_configuration=\"single-arm-opposed\",\n",
    "    **config,\n",
    ")\n",
    "\n",
    "# Two Arm Peg-in-Hole\n",
    "two_arm_peg_in_hole_env = suite.make(\n",
    "    env_name=\"TwoArmPegInHole\",\n",
    "    robots=[\"Panda\", \"Panda\"],\n",
    "    env_configuration=\"single-arm-opposed\",\n",
    "    **config,\n",
    ")"
   ]
  }
 ],
 "metadata": {
  "kernelspec": {
   "display_name": "robosuite",
   "language": "python",
   "name": "robosuite"
  },
  "language_info": {
   "codemirror_mode": {
    "name": "ipython",
    "version": 3
   },
   "file_extension": ".py",
   "mimetype": "text/x-python",
   "name": "python",
   "nbconvert_exporter": "python",
   "pygments_lexer": "ipython3",
   "version": "3.7.1"
  },
  "pycharm": {
   "stem_cell": {
    "cell_type": "raw",
    "metadata": {
     "collapsed": false
    },
    "source": []
   }
  }
 },
 "nbformat": 4,
 "nbformat_minor": 2
}
